{
 "cells": [
  {
   "cell_type": "markdown",
   "id": "2d3588ee",
   "metadata": {},
   "source": [
    "\n",
    "# 💻 Cybersecurity Threat Financial Loss Prediction\n",
    "### CRISP-DM Workflow Implementation Notebook\n",
    "---\n",
    "**Author:** [Your Name]  \n",
    "**Course:** 資訊安全 / AI Data Science  \n",
    "**Goal:** 預測各項資安事件造成的財務損失（Financial Loss in Million $）  \n",
    "**Framework:** CRISP-DM + Streamlit Deployment\n"
   ]
  },
  {
   "cell_type": "markdown",
   "id": "7e00ecec",
   "metadata": {},
   "source": [
    "\n",
    "## 1️⃣ Business Understanding\n",
    "---\n",
    "### 🎯 目標說明\n",
    "- 探討哪些因素會影響資安事件造成的財務損失。  \n",
    "- 建立可預測 Financial Loss 的回歸模型。\n",
    "\n",
    "### 📌 任務重點\n",
    "- 明確定義 Target：`Financial Loss (in Million $)`  \n",
    "- 其餘欄位為 features（9 欄），需進行類別與數值型特徵處理。\n"
   ]
  },
  {
   "cell_type": "markdown",
   "id": "d1356a15",
   "metadata": {},
   "source": [
    "\n",
    "## 2️⃣ Data Understanding\n",
    "---\n",
    "### 🧩 任務\n",
    "- 載入資料集 (`.csv`)\n",
    "- 瞭解欄位資訊、缺失值與統計摘要\n",
    "- 視覺化資料分布與關聯性\n"
   ]
  },
  {
   "cell_type": "code",
   "execution_count": null,
   "id": "8975e11e",
   "metadata": {},
   "outputs": [],
   "source": [
    "\n",
    "import pandas as pd\n",
    "import matplotlib.pyplot as plt\n",
    "import seaborn as sns\n",
    "\n",
    "# 載入資料集\n",
    "df = pd.read_csv(\"Global_Cybersecurity_Threats_2015-2024.csv\")\n",
    "df.head()\n"
   ]
  },
  {
   "cell_type": "code",
   "execution_count": null,
   "id": "4822dc38",
   "metadata": {},
   "outputs": [],
   "source": [
    "\n",
    "# 檢查欄位資訊與缺失值\n",
    "df.info()\n",
    "df.isnull().sum()\n"
   ]
  },
  {
   "cell_type": "code",
   "execution_count": null,
   "id": "1cc9d549",
   "metadata": {},
   "outputs": [],
   "source": [
    "\n",
    "# 基本統計摘要\n",
    "df.describe()\n"
   ]
  },
  {
   "cell_type": "code",
   "execution_count": null,
   "id": "f1a30333",
   "metadata": {},
   "outputs": [],
   "source": [
    "\n",
    "# 可視化欄位分布與關聯\n",
    "plt.figure(figsize=(8,5))\n",
    "sns.heatmap(df.corr(numeric_only=True), annot=True, cmap=\"coolwarm\")\n",
    "plt.title(\"Feature Correlation Heatmap\")\n",
    "plt.show()\n"
   ]
  },
  {
   "cell_type": "markdown",
   "id": "85aee774",
   "metadata": {},
   "source": [
    "\n",
    "## 3️⃣ Data Preparation\n",
    "---\n",
    "### 🧮 任務\n",
    "- 缺失值處理\n",
    "- One-Hot Encoding 類別特徵\n",
    "- 標準化數值欄位\n",
    "- 資料切分 (Train/Test)\n"
   ]
  },
  {
   "cell_type": "code",
   "execution_count": null,
   "id": "95ba4a9d",
   "metadata": {},
   "outputs": [],
   "source": [
    "\n",
    "from sklearn.model_selection import train_test_split\n",
    "from sklearn.preprocessing import StandardScaler\n",
    "\n",
    "# 設定 target 與 features\n",
    "target = \"Financial Loss (in Million $)\"\n",
    "X = df.drop(columns=[target])\n",
    "y = df[target]\n",
    "\n",
    "# 類別欄位轉換\n",
    "X = pd.get_dummies(X, drop_first=True)\n",
    "\n",
    "# 數值標準化\n",
    "scaler = StandardScaler()\n",
    "X_scaled = scaler.fit_transform(X)\n",
    "\n",
    "# 訓練/測試集切分\n",
    "X_train, X_test, y_train, y_test = train_test_split(X_scaled, y, test_size=0.2, random_state=42)\n"
   ]
  },
  {
   "cell_type": "markdown",
   "id": "3eb07bc3",
   "metadata": {},
   "source": [
    "\n",
    "## 4️⃣ Modeling\n",
    "---\n",
    "### 🧠 任務\n",
    "- 建立多元線性回歸模型\n",
    "- 使用 RFE 進行特徵選擇\n"
   ]
  },
  {
   "cell_type": "code",
   "execution_count": null,
   "id": "e3b7464c",
   "metadata": {},
   "outputs": [],
   "source": [
    "\n",
    "from sklearn.linear_model import LinearRegression\n",
    "from sklearn.feature_selection import RFE\n",
    "\n",
    "model = LinearRegression()\n",
    "rfe = RFE(model, n_features_to_select=10)\n",
    "rfe.fit(X_train, y_train)\n",
    "\n",
    "selected_features = X.columns[rfe.support_]\n",
    "selected_features\n"
   ]
  },
  {
   "cell_type": "code",
   "execution_count": null,
   "id": "32934139",
   "metadata": {},
   "outputs": [],
   "source": [
    "\n",
    "# 使用選擇後特徵重新訓練模型\n",
    "model.fit(X_train[:, rfe.support_], y_train)\n"
   ]
  },
  {
   "cell_type": "markdown",
   "id": "068f11e1",
   "metadata": {},
   "source": [
    "\n",
    "## 5️⃣ Evaluation\n",
    "---\n",
    "### 📊 任務\n",
    "- 評估模型表現 (R², RMSE, MAE)\n",
    "- 可視化實際 vs 預測、殘差圖\n"
   ]
  },
  {
   "cell_type": "code",
   "execution_count": null,
   "id": "d589c45e",
   "metadata": {},
   "outputs": [],
   "source": [
    "\n",
    "from sklearn.metrics import r2_score, mean_squared_error, mean_absolute_error\n",
    "import numpy as np\n",
    "\n",
    "y_pred = model.predict(X_test[:, rfe.support_])\n",
    "\n",
    "r2 = r2_score(y_test, y_pred)\n",
    "rmse = np.sqrt(mean_squared_error(y_test, y_pred))\n",
    "mae = mean_absolute_error(y_test, y_pred)\n",
    "\n",
    "print(f\"R²: {r2:.3f}, RMSE: {rmse:.3f}, MAE: {mae:.3f}\")\n"
   ]
  },
  {
   "cell_type": "code",
   "execution_count": null,
   "id": "9cbadda2",
   "metadata": {},
   "outputs": [],
   "source": [
    "\n",
    "# 可視化\n",
    "plt.figure(figsize=(6,6))\n",
    "sns.scatterplot(x=y_test, y=y_pred)\n",
    "plt.xlabel(\"Actual\")\n",
    "plt.ylabel(\"Predicted\")\n",
    "plt.title(\"Actual vs Predicted Financial Loss\")\n",
    "plt.show()\n"
   ]
  },
  {
   "cell_type": "markdown",
   "id": "76716fe2",
   "metadata": {},
   "source": [
    "\n",
    "## 6️⃣ Deployment (Streamlit Demo)\n",
    "---\n",
    "### 🚀 任務\n",
    "- 使用 `Streamlit` 建立互動式預測應用。  \n",
    "- 提供輸入欄位（攻擊類型、產業別、受害人數等），即時顯示預測結果。\n",
    "\n",
    "> 💡 本 Notebook 僅示範部署概念，可將最終程式放入 `app.py` 並使用 `streamlit run app.py` 執行。\n"
   ]
  },
  {
   "cell_type": "code",
   "execution_count": null,
   "id": "833663a8",
   "metadata": {},
   "outputs": [],
   "source": [
    "\n",
    "import joblib\n",
    "\n",
    "# 儲存模型\n",
    "joblib.dump(model, \"cyber_risk_model.pkl\")\n",
    "joblib.dump(scaler, \"scaler.pkl\")\n",
    "\n",
    "print(\"✅ 模型與 scaler 已儲存，可於 Streamlit 應用中載入使用。\")\n"
   ]
  },
  {
   "cell_type": "markdown",
   "id": "b2ed8a6f",
   "metadata": {},
   "source": [
    "\n",
    "---\n",
    "## 📘 Appendix\n",
    "- NotebookLM 摘要（至少 100 字）\n",
    "- GPT 對話記錄摘要（若需附錄 PDF 可截圖匯出）\n"
   ]
  }
 ],
 "metadata": {},
 "nbformat": 4,
 "nbformat_minor": 5
}