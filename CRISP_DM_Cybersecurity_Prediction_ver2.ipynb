{
 "cells": [
  {
   "cell_type": "markdown",
   "metadata": {},
   "source": [
    "# 網路安全威脅財務損失預測專案\n",
    "\n",
    "這是一個基於機器學習的專案，旨在預測網路安全事件可能造成的財務損失。專案採用 CRISP-DM（Cross-Industry Standard Process for Data Mining）流程方法論，從商業理解到模型部署，提供了一個完整的資料科學專案範例。\n",
    "\n",
    "使用者可以透過一個互動式的 Streamlit 網頁應用程式，輸入假設的攻擊情境，來預測潛在的財務損失，並深入探索資料與模型。"
   ]
  },
  {
   "cell_type": "markdown",
   "metadata": {},
   "source": [
    "## 1. 商業理解 (Business Understanding)\n",
    "\n",
    "**目標：**\n",
    "隨著全球數位化轉型，網路安全事件頻傳，對企業造成的財務衝擊也日益嚴重。本專案的主要商業目標是建立一個數據驅動的預測模型，以協助企業或組織評估不同網路安全威脅事件可能帶來的財務損失（以百萬美元計）。\n",
    "\n",
    "透過這個模型，決策者可以：\n",
    "- 更精準地評估資安風險。\n",
    "- 優先處理和分配資源給可能造成重大損失的威脅類型。\n",
    "- 為資安保險、預算規劃和投資決策提供量化依據。"
   ]
  },
  {
   "cell_type": "markdown",
   "metadata": {},
   "source": [
    "## 2. 資料理解 (Data Understanding)\n",
    "\n",
    "**資料來源：**\n",
    "本專案使用 `Global_Cybersecurity_Threats_2015-2024.csv` 資料集。此資料集包含了從 2015 年到 2024 年間的全球網路安全威脅事件記錄。\n",
    "\n",
    "**資料特徵：**\n",
    "資料集包含多種數值和類別特徵，例如：\n",
    "- **Attack Type**: 攻擊類型 (e.g., DDoS, Malware, Phishing)。\n",
    "- **Country**: 攻擊發生的國家。\n",
    "- **Sector**: 受攻擊的產業別。\n",
    "- **Number of Affected Users**: 受影響的使用者數量。\n",
    "- **Incident Resolution Time (in Hours)**: 事件解決所需時間（小時）。\n",